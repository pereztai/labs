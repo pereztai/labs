{
 "cells": [
  {
   "cell_type": "code",
   "execution_count": 4,
   "metadata": {
    "collapsed": true
   },
   "outputs": [],
   "source": [
    "%matplotlib inline"
   ]
  },
  {
   "cell_type": "markdown",
   "metadata": {},
   "source": [
    "# Modeling Static Friction"
   ]
  },
  {
   "cell_type": "markdown",
   "metadata": {},
   "source": [
    "### Introduction:"
   ]
  },
  {
   "cell_type": "markdown",
   "metadata": {},
   "source": [
    "From everyday experience, we know that it takes a certain amount of force to overcome friction and get an object sliding. The goal of this investigation is to model the dependence of this maximum static frictional force on the mass of the object in question."
   ]
  },
  {
   "cell_type": "markdown",
   "metadata": {},
   "source": [
    "### Procedure:"
   ]
  },
  {
   "cell_type": "markdown",
   "metadata": {},
   "source": [
    "We attached a spring scale to the side of a hollow box on a level surface. Adding additional masses, we measured the amount of force it took to get the box to begin to slide. "
   ]
  },
  {
   "cell_type": "code",
   "execution_count": null,
   "metadata": {
    "collapsed": true
   },
   "outputs": [],
   "source": [
    "<figure>\n",
    "    <img src=\"img/Friction Apparatus.png\" width=400px/>\n",
    "    <figcaption style=\"text-align:center; font-size: 12px\">Fig. 1 - Sketch of the apparatus</figcaption>\n",
    "</figure>"
   ]
  },
  {
   "cell_type": "markdown",
   "metadata": {},
   "source": [
    "<figure>\n",
    "    <img src=\"img/Apparatus Photo.jpg\" width=400px/>\n",
    "    <figcaption style=\"text-align:center; font-size: 12px;\">Fig. 2 - Photo of the apparatus</figcaption>\n",
    "</figure>"
   ]
  },
  {
   "cell_type": "code",
   "execution_count": 1,
   "metadata": {
    "collapsed": true
   },
   "outputs": [
    {
     "ename": "ImportError",
     "evalue": "No module named 'theano'",
     "output_type": "error",
     "traceback": [
      "\u001b[1;31m---------------------------------------------------------------------------\u001b[0m",
      "\u001b[1;31mImportError\u001b[0m                               Traceback (most recent call last)",
      "\u001b[1;32m<ipython-input-1-3397704bd624>\u001b[0m in \u001b[0;36m<module>\u001b[1;34m()\u001b[0m\n\u001b[1;32m----> 1\u001b[1;33m \u001b[1;32mimport\u001b[0m \u001b[0mtheano\u001b[0m\u001b[1;33m\u001b[0m\u001b[0m\n\u001b[0m",
      "\u001b[1;31mImportError\u001b[0m: No module named 'theano'"
     ]
    }
   ],
   "source": []
  },
  {
   "cell_type": "markdown",
   "metadata": {
    "collapsed": true
   },
   "source": [
    "### Data and Analysis:"
   ]
  },
  {
   "cell_type": "markdown",
   "metadata": {},
   "source": [
    "| $m_{added}$|$F_{max}$ |$m_{rampadded}$|$Fs_{added max}$|$ {F_n}$|\n",
    "|-----|-------|-------------|    \n",
    "|100  | 1.0|  100|.504|.958\n",
    "|120| 1.1|    200|.6|1.91\n",
    "|200| 1.3|    300|.712|2.87\n",
    "|220| 1.7|    400|.716|3.83\n",
    "|500| 2.0|    500|.72|4.79\n",
    "\n",
    "\n"
   ]
  },
  {
   "cell_type": "code",
   "execution_count": 5,
   "metadata": {
    "collapsed": false
   },
   "outputs": [
    {
     "data": {
      "image/png": "[encoded data removed]",
      "text/plain": [
       "<matplotlib.figure.Figure at 0x94b9a20>"
      ]
     },
     "metadata": {},
     "output_type": "display_data"
    }
   ],
   "source": [
    "import matplotlib.pyplot as plt\n",
    "import numpy as np\n",
    "from scipy.optimize import curve_fit\n",
    "\n",
    "m = [100,200,300,400,500] \n",
    "f = [0.7,1,1.3,1.5,1.7]\n",
    "\n",
    "m2 = [100,200,300,400,500] \n",
    "f2 = [.504,.6,.712,.716,.72]\n",
    "mm = np.linspace(0,550,500)\n",
    "\n",
    "def linear(x, a, b):\n",
    "    return a*x + b\n",
    "\n",
    "a, b = curve_fit(linear, m, f)[0]\n",
    "c,d = curve_fit(linear,m2,f2)[0]\n",
    "\n",
    "\n",
    "plt.xlim(0,550)\n",
    "plt.title(\"Modeling Static Friction with/without Ramp\")\n",
    "plt.xlabel(\"Mass Added (g)\")\n",
    "plt.ylabel(\"Max Frictional Force\")\n",
    "plt.plot(m, f,'*')\n",
    "plt.plot(m2,f2, 'ro')\n",
    "plt.plot(mm, linear(mm, a, b),'--')\n",
    "plt.plot(mm, linear(mm,c,d), '--')\n",
    "plt.show()"
   ]
  },
  {
   "cell_type": "markdown",
   "metadata": {
    "collapsed": true
   },
   "source": []
  },
  {
   "cell_type": "markdown",
   "metadata": {
    "collapsed": true
   },
   "source": [
    "Procedure:\n",
    "In this experiment, we measured the diffrence between the amount of forces it would take to pull the box on a flat surface than it would on a ramp. Taking wieght of 100 grams and consecutively adding it to the box for both the ramp and the flat surface."
   ]
  },
  {
   "cell_type": "markdown",
   "metadata": {
    "collapsed": true
   },
   "source": [
    "Conclusion:\n",
    "For the experiment we tried the static frictional force on the mass of the objects. We concluded that the less force was required for the ramp because of it leaning on one side. the next experiment was a flat surface and that required more force to pull in order for it to move."
   ]
  },
  {
   "cell_type": "code",
   "execution_count": 5,
   "metadata": {
    "collapsed": false
   },
   "outputs": [
    {
     "data": {
      "image/png": "[encoded data removed]",
      "text/plain": [
       "<matplotlib.figure.Figure at 0x5874320>"
      ]
     },
     "metadata": {},
     "output_type": "display_data"
    }
   ],
   "source": [
    "import matplotlib.pyplot as plt\n",
    "import numpy as np\n",
    "from scipy.optimize import curve_fit\n",
    "\n",
    "m = [100,200,300,400,500] \n",
    "f = [0.7,1,1.3,1.5,1.7]\n",
    "\n",
    "m2 = [100,200,300,400,500] \n",
    "f2 = [.958,1.91,2.87,3.83,4.79]\n",
    "mm = np.linspace(0,550,500)\n",
    "\n",
    "def linear(x, a, b):\n",
    "    return a*x + b\n",
    "\n",
    "a, b = curve_fit(linear, m, f)[0]\n",
    "c,d = curve_fit(linear,m2,f2)[0]\n",
    "\n",
    "\n",
    "plt.xlim(0,550)\n",
    "plt.title(\"Static Friction VS Normal Force\")\n",
    "plt.xlabel(\"Mass Added (g)\")\n",
    "plt.ylabel(\"Max Frictional Force\")\n",
    "plt.plot(m, f,'*')\n",
    "plt.plot(m2,f2, 'ro')\n",
    "plt.plot(mm, linear(mm, a, b),'--')\n",
    "plt.plot(mm, linear(mm,c,d), '--')\n",
    "plt.show()"
   ]
  },
  {
   "cell_type": "code",
   "execution_count": 8,
   "metadata": {
    "collapsed": false
   },
   "outputs": [],
   "source": [
    "import "
   ]
  },
  {
   "cell_type": "code",
   "execution_count": null,
   "metadata": {
    "collapsed": true
   },
   "outputs": [],
   "source": []
  }
 ],
 "metadata": {
  "anaconda-cloud": {},
  "kernelspec": {
   "display_name": "Python 3",
   "language": "python",
   "name": "python3"
  },
  "language_info": {
   "codemirror_mode": {
    "name": "ipython",
    "version": 3
   },
   "file_extension": ".py",
   "mimetype": "text/x-python",
   "name": "python",
   "nbconvert_exporter": "python",
   "pygments_lexer": "ipython3",
   "version": "3.4.3"
  }
 },
 "nbformat": 4,
 "nbformat_minor": 1
}
